{
  "nbformat": 4,
  "nbformat_minor": 0,
  "metadata": {
    "colab": {
      "name": "Python Programming Assignment No 8.ipynb",
      "provenance": []
    },
    "kernelspec": {
      "name": "python3",
      "display_name": "Python 3"
    },
    "language_info": {
      "name": "python"
    }
  },
  "cells": [
    {
      "cell_type": "code",
      "execution_count": 8,
      "metadata": {
        "colab": {
          "base_uri": "https://localhost:8080/"
        },
        "id": "KDS_z0hOjgGz",
        "outputId": "c4863a9f-d517-4300-de1b-265a3b1cb1a5"
      },
      "outputs": [
        {
          "output_type": "stream",
          "name": "stdout",
          "text": [
            "[6, 8]\n",
            "[10, 12]\n"
          ]
        }
      ],
      "source": [
        "#Write a Python Program to Add Two Matrices?\n",
        "x=[[1,2],\n",
        "   [3,4]]\n",
        "y=[[5,6],\n",
        "   [7,8]]\n",
        "result=[[0,0],\n",
        "        [0,0]]\n",
        "for i in range(len(x)):\n",
        "  for j in range(len(x[0])):\n",
        "    result[i][j]=x[i][j]+y[i][j]\n",
        "for r in result:\n",
        "  print(r)"
      ]
    },
    {
      "cell_type": "code",
      "source": [
        "#Write a Python Program to Multiply Two Matrices?\n",
        "x=[[1,3],\n",
        "   [4,5]]\n",
        "y=[[7,8],\n",
        "   [9,5]]\n",
        "result_=[[0,0],\n",
        "         [0,0]]\n",
        "for i in range(len(x)):\n",
        "  for j in range(len(x[0])):\n",
        "    for k in range(len(y[0])):\n",
        "      result[i][j]+=x[i][j]*y[i][j]\n",
        "for r in result:\n",
        "  print(r)"
      ],
      "metadata": {
        "colab": {
          "base_uri": "https://localhost:8080/"
        },
        "id": "zSikptpwl208",
        "outputId": "e4339cc0-0a74-4429-8933-c93fefc1af5e"
      },
      "execution_count": 15,
      "outputs": [
        {
          "output_type": "stream",
          "name": "stdout",
          "text": [
            "[21, 72, 11]\n",
            "[108, 75, 8]\n"
          ]
        }
      ]
    },
    {
      "cell_type": "code",
      "source": [
        "#Write a Python Program to Transpose a Matrix?\n",
        "\n",
        "X = [[44,7],\n",
        "    [4 ,7],\n",
        "    [42,8]]\n",
        "result = [[0,0,0],\n",
        "         [0,0,0]]\n",
        "for i in range(len(X)):\n",
        "   for j in range(len(X[0])):\n",
        "       result[j][i] = X[i][j]\n",
        "\n",
        "for r in result:\n",
        "   print(r)\n"
      ],
      "metadata": {
        "colab": {
          "base_uri": "https://localhost:8080/"
        },
        "id": "4KuFTCXbn0VY",
        "outputId": "4c53a4a2-a6ab-468b-e8a4-bc18175e33e9"
      },
      "execution_count": 16,
      "outputs": [
        {
          "output_type": "stream",
          "name": "stdout",
          "text": [
            "[44, 4, 42]\n",
            "[7, 7, 8]\n"
          ]
        }
      ]
    },
    {
      "cell_type": "code",
      "source": [
        "#Write a Python Program to Sort Words in Alphabetic Order?\n",
        "a='hi this is kiran bandgar'\n",
        "words=a.split()\n",
        "words.sort()\n",
        "for word in words:\n",
        "  print(word)"
      ],
      "metadata": {
        "colab": {
          "base_uri": "https://localhost:8080/"
        },
        "id": "-GE3bgBGoEpg",
        "outputId": "a501ef99-1bce-4987-a034-6310e25e26b2"
      },
      "execution_count": 20,
      "outputs": [
        {
          "output_type": "stream",
          "name": "stdout",
          "text": [
            "bandgar\n",
            "hi\n",
            "is\n",
            "kiran\n",
            "this\n"
          ]
        }
      ]
    },
    {
      "cell_type": "code",
      "source": [
        "#Write a Python Program to Remove Punctuation From a String?\n",
        "punctuation = '''''!()-[]{};:'\"\\,<>./?@#$%^&*_~'''  \n",
        "b ='hi!, how are you ?' \n",
        "no_punct = \"\"  \n",
        "for char in b:  \n",
        "   if char not in punctuation:  \n",
        "       no_punct = no_punct + char    \n",
        "print(no_punct)  "
      ],
      "metadata": {
        "colab": {
          "base_uri": "https://localhost:8080/"
        },
        "id": "VFsVM5byo3RA",
        "outputId": "f15f8fef-c03c-474b-ff70-133f7244429f"
      },
      "execution_count": 21,
      "outputs": [
        {
          "output_type": "stream",
          "name": "stdout",
          "text": [
            "hi how are you \n"
          ]
        }
      ]
    },
    {
      "cell_type": "code",
      "source": [
        ""
      ],
      "metadata": {
        "id": "42AHgBM5p5OX"
      },
      "execution_count": null,
      "outputs": []
    }
  ]
}