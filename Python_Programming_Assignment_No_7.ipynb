{
  "nbformat": 4,
  "nbformat_minor": 0,
  "metadata": {
    "colab": {
      "name": "Python Programming Assignment No 7.ipynb",
      "provenance": []
    },
    "kernelspec": {
      "name": "python3",
      "display_name": "Python 3"
    },
    "language_info": {
      "name": "python"
    }
  },
  "cells": [
    {
      "cell_type": "code",
      "execution_count": 1,
      "metadata": {
        "colab": {
          "base_uri": "https://localhost:8080/"
        },
        "id": "0eou0mwLdO1k",
        "outputId": "194264f8-6e05-4fc6-bcb3-757c55c82136"
      },
      "outputs": [
        {
          "output_type": "stream",
          "name": "stdout",
          "text": [
            "sum is  133\n"
          ]
        }
      ],
      "source": [
        "#Write a Python Program to find sum of array?\n",
        "def sum_(arr):\n",
        "  sum=0\n",
        "  for i in arr:\n",
        "    sum=sum+i\n",
        "    i=i+1\n",
        "  return sum\n",
        "arr=[]\n",
        "arr=[1,54,78]\n",
        "ans=sum_(arr)\n",
        "print('sum is ',ans)"
      ]
    },
    {
      "cell_type": "code",
      "source": [
        "#Write a Python Program to find largest element in an array?\n",
        "def largest_(arr,n):\n",
        "  max=arr[0]\n",
        "  for i in range(1,n):\n",
        "    if arr[i]>max:\n",
        "      max=arr[i]\n",
        "  return max  \n",
        "arr=[1,2,3,4,5]\n",
        "n=len(arr)\n",
        "Ans=largest_(arr,n)\n",
        "print('largest no is ',Ans)"
      ],
      "metadata": {
        "colab": {
          "base_uri": "https://localhost:8080/"
        },
        "id": "dm6mVgVyd_Sz",
        "outputId": "f37d1d48-772a-4964-bf3a-94408cbe92a4"
      },
      "execution_count": 6,
      "outputs": [
        {
          "output_type": "stream",
          "name": "stdout",
          "text": [
            "largest no is  5\n"
          ]
        }
      ]
    },
    {
      "cell_type": "code",
      "source": [
        "#Write a Python Program for array rotation?\n",
        "def rotateArray(arr, n, d):\n",
        "    temp = []\n",
        "    i = 0\n",
        "    while (i < d):\n",
        "        temp.append(arr[i])\n",
        "        i = i + 1\n",
        "    i = 0\n",
        "    while (d < n):\n",
        "        arr[i] = arr[d]\n",
        "        i = i + 1\n",
        "        d = d + 1\n",
        "    arr[:] = arr[: i] + temp\n",
        "    return arr\n",
        "arr=[1,2,45,7]\n",
        "print(rotateArray(arr,len(arr),2))"
      ],
      "metadata": {
        "colab": {
          "base_uri": "https://localhost:8080/"
        },
        "id": "gJDudbGkfNi8",
        "outputId": "61d69dab-0e63-4126-d282-4371650c5469"
      },
      "execution_count": 7,
      "outputs": [
        {
          "output_type": "stream",
          "name": "stdout",
          "text": [
            "[45, 7, 1, 2]\n"
          ]
        }
      ]
    },
    {
      "cell_type": "code",
      "source": [
        "#Write a Python Program to Split the array and add the first part to the end?\n",
        "def splitArr(arr, n, k): \n",
        "    for i in range(0, k): \n",
        "        x = arr[0]\n",
        "        for j in range(0, n-1):\n",
        "            arr[j] = arr[j + 1]\n",
        "          \n",
        "        arr[n-1] = x\n",
        "          \n",
        "  \n",
        "# main\n",
        "arr = [55,447,89,24]\n",
        "n = len(arr)\n",
        "position = 2\n",
        "  \n",
        "splitArr(arr, n, position)\n",
        "  \n",
        "for i in range(0, n): \n",
        "    print(arr[i], end = ' ')\n",
        "  "
      ],
      "metadata": {
        "colab": {
          "base_uri": "https://localhost:8080/"
        },
        "id": "uotZVTBLhHvb",
        "outputId": "117d06f5-f659-4253-e3de-470eaaa9e08d"
      },
      "execution_count": 8,
      "outputs": [
        {
          "output_type": "stream",
          "name": "stdout",
          "text": [
            "89 24 55 447 "
          ]
        }
      ]
    },
    {
      "cell_type": "code",
      "source": [
        "#Write a Python Program to check if given array is Monotonic?\n",
        "def isMonotonic(A):\n",
        "    return (all(A[i] <= A[i + 1] for i in range(len(A) - 1)) or\n",
        "            all(A[i] >= A[i + 1] for i in range(len(A) - 1)))\n",
        "A = [1,2,3,4]\n",
        "print(isMonotonic(A))\n",
        "  "
      ],
      "metadata": {
        "colab": {
          "base_uri": "https://localhost:8080/"
        },
        "id": "2GiYIk-gha_6",
        "outputId": "2091a248-2dcc-4ac7-8df3-cf8804b6809a"
      },
      "execution_count": 12,
      "outputs": [
        {
          "output_type": "stream",
          "name": "stdout",
          "text": [
            "True\n"
          ]
        }
      ]
    },
    {
      "cell_type": "code",
      "source": [
        ""
      ],
      "metadata": {
        "id": "2G-WOg_LiYsL"
      },
      "execution_count": null,
      "outputs": []
    }
  ]
}