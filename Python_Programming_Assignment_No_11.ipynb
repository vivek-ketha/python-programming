{
  "nbformat": 4,
  "nbformat_minor": 0,
  "metadata": {
    "colab": {
      "name": "Python Programming Assignment No 11.ipynb",
      "provenance": []
    },
    "kernelspec": {
      "name": "python3",
      "display_name": "Python 3"
    },
    "language_info": {
      "name": "python"
    }
  },
  "cells": [
    {
      "cell_type": "code",
      "execution_count": 1,
      "metadata": {
        "colab": {
          "base_uri": "https://localhost:8080/"
        },
        "id": "vFu15t2bkngM",
        "outputId": "aa54be59-2a81-4c00-dc4e-17c95eac0d7e"
      },
      "outputs": [
        {
          "output_type": "stream",
          "name": "stdout",
          "text": [
            "enter a string kiran bandgar\n",
            "enter k3\n",
            "words whose length is greater than  3  are ['kiran', 'bandgar']\n"
          ]
        }
      ],
      "source": [
        "#Write a Python program to find words which are greater than given length k?\n",
        "a=str(input('enter a string '))\n",
        "b=int(input('enter k'))\n",
        "c=[]\n",
        "words=a.split(' ')\n",
        "for i in words:\n",
        "  if len(i)> b:\n",
        "    c.append(i)\n",
        "print('words whose length is greater than ',b, ' are', c)"
      ]
    },
    {
      "cell_type": "code",
      "source": [
        "#Write a Python program for removing i-th character from a string?\n",
        "def remove(string, i):\n",
        "\tfor j in range(len(string)):\n",
        "\t\tif j == i:\n",
        "\t\t\tstring = string.replace(string[i], \"\", 1)\n",
        "\treturn string\n",
        "if __name__ == '__main__':\n",
        "\tstring = \"kiran bandgar\"\n",
        "\ti = 4\n",
        "\tprint(remove(string, i))"
      ],
      "metadata": {
        "id": "WBuhWjX1iSZG",
        "colab": {
          "base_uri": "https://localhost:8080/"
        },
        "outputId": "ce005289-9589-401a-a8c7-d9f70f404ba4"
      },
      "execution_count": 2,
      "outputs": [
        {
          "output_type": "stream",
          "name": "stdout",
          "text": [
            "kira bandgar\n"
          ]
        }
      ]
    },
    {
      "cell_type": "code",
      "source": [
        "#Write a Python program to split and join a string?\n",
        "def split_string(string):\n",
        "\tlist_string = string.split(' ')\n",
        "\treturn list_string\n",
        "def join_string(list_string):\n",
        "\tstring = '-'.join(list_string)\n",
        "\treturn string\n",
        "if __name__ == '__main__':\n",
        "\tstring = 'kiran bandgar'\n",
        "\tlist_string = split_string(string)\n",
        "\tnew_string = join_string(list_string)\n",
        "\tprint(new_string)"
      ],
      "metadata": {
        "id": "0q61TWqqjTH0",
        "colab": {
          "base_uri": "https://localhost:8080/"
        },
        "outputId": "597cac21-7d2f-45fd-9288-b83810d672bd"
      },
      "execution_count": 7,
      "outputs": [
        {
          "output_type": "stream",
          "name": "stdout",
          "text": [
            "kiran-bandgar\n"
          ]
        }
      ]
    },
    {
      "cell_type": "code",
      "source": [
        "#Write a Python to check if a given string is binary string or not?\n",
        "string_A = '0110101010111'\n",
        "b = {'0','1'}\n",
        "t = set(string_A)\n",
        "if b == t or t == {'0'} or t == {'1'}:\n",
        "  print(\"String_A is a binary string.\")\n",
        "else:\n",
        "  print(\"String_A is not a binary string.\")\n",
        "string_B = '0120101010111'\n",
        "u = set(string_B)\n",
        "if b == u or u == {'0'} or u == {'1'}:\n",
        "  print(\"String_B is a binary string.\")\n",
        "else:\n",
        "  print(\"String_B is not a binary string.\")"
      ],
      "metadata": {
        "colab": {
          "base_uri": "https://localhost:8080/"
        },
        "id": "AkFSsBOrk5K1",
        "outputId": "36227751-7474-4cce-8538-4a930ebdef7a"
      },
      "execution_count": 11,
      "outputs": [
        {
          "output_type": "stream",
          "name": "stdout",
          "text": [
            "String_A is a binary string.\n",
            "String_B is not a binary string.\n"
          ]
        }
      ]
    },
    {
      "cell_type": "code",
      "source": [
        "#Write a Python program to find uncommon words from two Strings?\n",
        "def uncommon(a,b):\n",
        "\tlist_a = a.split()\n",
        "\tlist_b = b.split()\n",
        "\tuc = ''\n",
        "\tfor i in list_a:\n",
        "\t\tif i not in list_b:\n",
        "\t\t\tuc = uc+\" \"+i\n",
        "\tfor j in list_b:\n",
        "\t\tif j not in list_a:\n",
        "\t\t\tuc = uc+\" \"+j\n",
        "\treturn uc\n",
        "a = \"apple banana mango\"\n",
        "b = \"banana fruits mango\"\n",
        "print(uncommon(a,b))\n"
      ],
      "metadata": {
        "colab": {
          "base_uri": "https://localhost:8080/"
        },
        "id": "AAcr8hIcl85t",
        "outputId": "ba0301a5-ed54-4d8a-9cd7-7e9c37cc0f86"
      },
      "execution_count": 21,
      "outputs": [
        {
          "output_type": "stream",
          "name": "stdout",
          "text": [
            " apple fruits\n"
          ]
        }
      ]
    },
    {
      "cell_type": "code",
      "source": [
        "#Write a Python to find all duplicate characters in string?\n",
        "string = \"kiran bandgar\"\n",
        "duplicates = []\n",
        "for char in string:\n",
        "   if string.count(char) > 1:\n",
        "    if char not in duplicates:\n",
        "      duplicates.append(char)\n",
        "print(*duplicates)"
      ],
      "metadata": {
        "colab": {
          "base_uri": "https://localhost:8080/"
        },
        "id": "AUHHouSGnq-2",
        "outputId": "c146fc9a-b7f3-4d9b-c57c-d08e47b4da28"
      },
      "execution_count": 23,
      "outputs": [
        {
          "output_type": "stream",
          "name": "stdout",
          "text": [
            "r a n\n"
          ]
        }
      ]
    },
    {
      "cell_type": "code",
      "source": [
        "#Write a Python Program to check if a string contains any special character?\n",
        "import re\n",
        "string = input('Enter any string: ')\n",
        "special_char = re.compile('[@_!#$%^&*()<>?/\\|}{~:]')\n",
        "if(special_char.search(string) == None):\n",
        "    print('String does not contain any special characters.')\n",
        "else:\n",
        "    print('The string contains special characters.')"
      ],
      "metadata": {
        "colab": {
          "base_uri": "https://localhost:8080/"
        },
        "id": "OVq2VB04o_-c",
        "outputId": "10ef0f0a-3b19-4cbd-d4b0-b94a8b865323"
      },
      "execution_count": 24,
      "outputs": [
        {
          "output_type": "stream",
          "name": "stdout",
          "text": [
            "Enter any string: India's future is bright!\n",
            "The string contains special characters.\n"
          ]
        }
      ]
    }
  ]
}