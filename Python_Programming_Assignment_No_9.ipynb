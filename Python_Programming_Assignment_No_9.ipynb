{
  "nbformat": 4,
  "nbformat_minor": 0,
  "metadata": {
    "colab": {
      "name": "Python Programming Assignment No 9.ipynb",
      "provenance": []
    },
    "kernelspec": {
      "name": "python3",
      "display_name": "Python 3"
    },
    "language_info": {
      "name": "python"
    }
  },
  "cells": [
    {
      "cell_type": "code",
      "execution_count": 1,
      "metadata": {
        "colab": {
          "base_uri": "https://localhost:8080/"
        },
        "id": "iKpBtWINrdxc",
        "outputId": "22eef158-9be4-43a0-e525-a73ae9b4d9ac"
      },
      "outputs": [
        {
          "output_type": "stream",
          "name": "stdout",
          "text": [
            "175 is a disarium number\n"
          ]
        }
      ],
      "source": [
        "#Write a Python program to check if the given number is a Disarium Number?\n",
        "def calculateLength(n):    \n",
        "    length = 0;    \n",
        "    while(n != 0):    \n",
        "        length = length + 1;    \n",
        "        n = n//10;    \n",
        "    return length;       \n",
        "num = 175;    \n",
        "rem = sum = 0;    \n",
        "len = calculateLength(num);        \n",
        "n = num;    \n",
        "while(num > 0):    \n",
        "    rem = num%10;    \n",
        "    sum = sum + int(rem**len);    \n",
        "    num = num//10;    \n",
        "    len = len - 1;        \n",
        "if(sum == n):    \n",
        "    print(str(n) + \" is a disarium number\");    \n",
        "else:    \n",
        "    print(str(n) + \" is not a disarium number\"); "
      ]
    },
    {
      "cell_type": "code",
      "source": [
        "#Write a Python program to print all disarium numbers between 1 to 100?\n",
        "def length_calculation(my_val):\n",
        "   len_val = 0\n",
        "   while(my_val != 0):\n",
        "      len_val = len_val + 1\n",
        "      my_val = my_val//10\n",
        "   return len_val\n",
        "def digit_sum(my_num):\n",
        "   remaining = sum_val = 0\n",
        "   len_fun = length_calculation(my_num)\n",
        "   while(my_num > 0):\n",
        "      remaining = my_num%10\n",
        "      sum_val = sum_val + (remaining**len_fun)\n",
        "      my_num = my_num//10\n",
        "      len_fun = len_fun - 1\n",
        "   return sum_val\n",
        "ini_result = 0\n",
        "print(\"The disarium numbers between 1 and 100 are : \")\n",
        "for i in range(1, 101):\n",
        "   ini_result = digit_sum(i)\n",
        "   if(ini_result == i):\n",
        "      print(i)"
      ],
      "metadata": {
        "colab": {
          "base_uri": "https://localhost:8080/"
        },
        "id": "nUDSnu84r2f-",
        "outputId": "b48194a0-54f7-4403-a96d-14328970f774"
      },
      "execution_count": 9,
      "outputs": [
        {
          "output_type": "stream",
          "name": "stdout",
          "text": [
            "The disarium numbers between 1 and 100 are : \n",
            "1\n",
            "2\n",
            "3\n",
            "4\n",
            "5\n",
            "6\n",
            "7\n",
            "8\n",
            "9\n",
            "89\n"
          ]
        }
      ]
    },
    {
      "cell_type": "code",
      "source": [
        "#Write a Python program to check if the given number is Happy Number?\n",
        "def check_happy_num(my_num):\n",
        "   remaining = sum_val = 0\n",
        "   while(my_num > 0):\n",
        "      remaining = my_num%10\n",
        "      sum_val = sum_val + (remaining*remaining)\n",
        "      my_num = my_num//10\n",
        "   return sum_val;\n",
        "my_num = 86\n",
        "my_result = my_num\n",
        "while(my_result != 1 and my_result != 4):\n",
        "   my_result = check_happy_num(my_result);\n",
        "if(my_result == 1):\n",
        "   print(str(my_num) + \" is a happy number\");\n",
        "elif(my_result == 4):\n",
        "   print(str(my_num) + \" isn't a happy number\");"
      ],
      "metadata": {
        "colab": {
          "base_uri": "https://localhost:8080/"
        },
        "id": "f_i74Ao1sXwN",
        "outputId": "dd641281-2309-435f-fef2-38576050af26"
      },
      "execution_count": 11,
      "outputs": [
        {
          "output_type": "stream",
          "name": "stdout",
          "text": [
            "86 is a happy number\n"
          ]
        }
      ]
    },
    {
      "cell_type": "code",
      "source": [
        "#Write a Python program to print all happy numbers between 1 and 100?\n",
        "def check_happy_num(my_num):\n",
        "   remaining = sum_val = 0\n",
        "   while(my_num > 0):\n",
        "      remaining = my_num%10\n",
        "      sum_val = sum_val + (remaining*remaining)\n",
        "      my_num = my_num//10\n",
        "   return sum_val\n",
        "print(\"The list of happy numbers between 1 and 100 are : \")\n",
        "for i in range(1, 101):\n",
        "   my_result = i\n",
        "   while(my_result != 1 and my_result != 4):\n",
        "      my_result = check_happy_num(my_result)\n",
        "   if(my_result == 1):\n",
        "      print(i)"
      ],
      "metadata": {
        "colab": {
          "base_uri": "https://localhost:8080/"
        },
        "id": "rgA_PyATt-p2",
        "outputId": "663a2c3b-fbac-454b-bd2c-ec6055108e5d"
      },
      "execution_count": 12,
      "outputs": [
        {
          "output_type": "stream",
          "name": "stdout",
          "text": [
            "The list of happy numbers between 1 and 100 are : \n",
            "1\n",
            "7\n",
            "10\n",
            "13\n",
            "19\n",
            "23\n",
            "28\n",
            "31\n",
            "32\n",
            "44\n",
            "49\n",
            "68\n",
            "70\n",
            "79\n",
            "82\n",
            "86\n",
            "91\n",
            "94\n",
            "97\n",
            "100\n"
          ]
        }
      ]
    },
    {
      "cell_type": "code",
      "source": [
        "#Write a Python program to determine whether the given number is a Harshad Number?\n",
        "num = 156;    \n",
        "rem = sum = 0;    \n",
        "n = num;    \n",
        "while(num > 0):    \n",
        "    rem = num%10;    \n",
        "    sum = sum + rem;    \n",
        "    num = num//10;    \n",
        "if(n%sum == 0):    \n",
        "    print(str(n) + \" is a harshad number\");    \n",
        "else:    \n",
        "    print(str(n) + \" is not a harshad number\");    "
      ],
      "metadata": {
        "colab": {
          "base_uri": "https://localhost:8080/"
        },
        "id": "N3JJV6MQuKEd",
        "outputId": "87ec3ddf-20da-44fe-f732-c809a692679f"
      },
      "execution_count": 13,
      "outputs": [
        {
          "output_type": "stream",
          "name": "stdout",
          "text": [
            "156 is a harshad number\n"
          ]
        }
      ]
    },
    {
      "cell_type": "code",
      "source": [
        "#Write a Python program to print all pronic numbers between 1 and 100?\n",
        "def isPronicNumber(num):    \n",
        "    flag = False;    \n",
        "        \n",
        "    for j in range(1, num+1):    \n",
        "        if((j*(j+1)) == num):    \n",
        "            flag = True;    \n",
        "            break;    \n",
        "    return flag;    \n",
        "print(\"Pronic numbers between 1 and 100: \");    \n",
        "for i in range(1, 101):    \n",
        "    if(isPronicNumber(i)):    \n",
        "        print(i),    "
      ],
      "metadata": {
        "colab": {
          "base_uri": "https://localhost:8080/"
        },
        "id": "53gn2vn7umL8",
        "outputId": "59fc9603-94b5-4084-af67-763eef4293af"
      },
      "execution_count": 15,
      "outputs": [
        {
          "output_type": "stream",
          "name": "stdout",
          "text": [
            "Pronic numbers between 1 and 100: \n",
            "2\n",
            "6\n",
            "12\n",
            "20\n",
            "30\n",
            "42\n",
            "56\n",
            "72\n",
            "90\n"
          ]
        }
      ]
    },
    {
      "cell_type": "code",
      "source": [
        ""
      ],
      "metadata": {
        "id": "rUAjQ7jUuzVE"
      },
      "execution_count": null,
      "outputs": []
    }
  ]
}