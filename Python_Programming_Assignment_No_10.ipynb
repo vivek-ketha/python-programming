{
  "nbformat": 4,
  "nbformat_minor": 0,
  "metadata": {
    "colab": {
      "name": "Python Programming Assignment No 10.ipynb",
      "provenance": []
    },
    "kernelspec": {
      "name": "python3",
      "display_name": "Python 3"
    },
    "language_info": {
      "name": "python"
    }
  },
  "cells": [
    {
      "cell_type": "code",
      "execution_count": 13,
      "metadata": {
        "colab": {
          "base_uri": "https://localhost:8080/"
        },
        "id": "P3F3QSs9vLKk",
        "outputId": "2039ccd6-eeea-4608-a5e2-c0b3734db94c"
      },
      "outputs": [
        {
          "output_type": "stream",
          "name": "stdout",
          "text": [
            "15\n"
          ]
        }
      ],
      "source": [
        "#Write a Python program to find sum of elements in list?\n",
        "sum=0\n",
        "l=[1,2,3,4,5]\n",
        "for i in range(0,len(l)):\n",
        "  sum=sum+l[i]\n",
        "print(sum)"
      ]
    },
    {
      "cell_type": "code",
      "source": [
        "#Write a Python program to  Multiply all numbers in the list?\n",
        "sum=1\n",
        "l=[1,2,3,4,5]\n",
        "for i in range(0,len(l)):\n",
        "  sum=sum*l[i]\n",
        "print(sum)"
      ],
      "metadata": {
        "colab": {
          "base_uri": "https://localhost:8080/"
        },
        "id": "VleQBErKxKAz",
        "outputId": "2aab37b5-6598-4d58-9b6f-172f0e2bd45a"
      },
      "execution_count": 17,
      "outputs": [
        {
          "output_type": "stream",
          "name": "stdout",
          "text": [
            "120\n"
          ]
        }
      ]
    },
    {
      "cell_type": "code",
      "source": [
        "#Write a Python program to find smallest number in a list?\n",
        "l=[1,2,3,4,5]\n",
        "l.sort()\n",
        "print('The smallest no is ',*l[:1])"
      ],
      "metadata": {
        "colab": {
          "base_uri": "https://localhost:8080/"
        },
        "id": "PRtLXSEUxk07",
        "outputId": "698aa55e-b1da-4471-8021-f768511252ec"
      },
      "execution_count": 27,
      "outputs": [
        {
          "output_type": "stream",
          "name": "stdout",
          "text": [
            "The smallest no is  1\n"
          ]
        }
      ]
    },
    {
      "cell_type": "code",
      "source": [
        "#Write a Python program to find largest number in a list?\n",
        "l=[10,11,0,12,1]\n",
        "l.sort()\n",
        "print('The largest no is ',l[-1])"
      ],
      "metadata": {
        "colab": {
          "base_uri": "https://localhost:8080/"
        },
        "id": "MxLpzovBycPz",
        "outputId": "b5ed09e9-634f-4f39-ef25-49ede382c85a"
      },
      "execution_count": 28,
      "outputs": [
        {
          "output_type": "stream",
          "name": "stdout",
          "text": [
            "The largest no is  12\n"
          ]
        }
      ]
    },
    {
      "cell_type": "code",
      "source": [
        "#Write a Python program to find second largest number in a list?\n",
        "l=[55,41,78,35]\n",
        "l.sort()\n",
        "print('The second largest no is ',l[-2])"
      ],
      "metadata": {
        "colab": {
          "base_uri": "https://localhost:8080/"
        },
        "id": "B1EBhXCZywNr",
        "outputId": "9407a195-1986-4f78-8754-560179d98f63"
      },
      "execution_count": 31,
      "outputs": [
        {
          "output_type": "stream",
          "name": "stdout",
          "text": [
            "The second largest no is  55\n"
          ]
        }
      ]
    },
    {
      "cell_type": "code",
      "source": [
        "#Write a Python program to find N largest elements from a list?\n",
        "def Nmaxelements(l, N):\n",
        "\tfinal_list = []\n",
        "\tfor i in range(0, N):\n",
        "\t\tmax1 = 0\n",
        "\t\tfor j in range(len(l)):\t\n",
        "\t\t\tif l[j] > max1:\n",
        "\t\t\t\tmax1 = l[j]\n",
        "\t\tl.remove(max1);\n",
        "\t\tfinal_list.append(max1)\n",
        "\tprint(final_list)\n",
        "l= [100,157,895,412,789]\n",
        "N = 2\n",
        "Nmaxelements(l, N)\n"
      ],
      "metadata": {
        "colab": {
          "base_uri": "https://localhost:8080/"
        },
        "id": "CToN0EiGzZ6D",
        "outputId": "ab9df082-9a74-4413-a673-a0567dc11403"
      },
      "execution_count": 36,
      "outputs": [
        {
          "output_type": "stream",
          "name": "stdout",
          "text": [
            "[895, 789]\n"
          ]
        }
      ]
    },
    {
      "cell_type": "code",
      "source": [
        "#Write a Python program to print even numbers in a list?\n",
        "l=[55,44,72,35,68]\n",
        "for i in l:\n",
        "  if i%2==0:\n",
        "    print(i)"
      ],
      "metadata": {
        "colab": {
          "base_uri": "https://localhost:8080/"
        },
        "id": "iBHHKUzJz5jq",
        "outputId": "d96a9b70-b07d-4a9c-e72b-7d87105e2981"
      },
      "execution_count": 44,
      "outputs": [
        {
          "output_type": "stream",
          "name": "stdout",
          "text": [
            "44\n",
            "72\n",
            "68\n"
          ]
        }
      ]
    },
    {
      "cell_type": "code",
      "source": [
        "#Write a Python program to print odd numbers in a List?\n",
        "l=[44,43,57,98,74,55]\n",
        "for i in l:\n",
        "  if i%2!=0:\n",
        "    print(i)"
      ],
      "metadata": {
        "colab": {
          "base_uri": "https://localhost:8080/"
        },
        "id": "fwWcjeHm1aej",
        "outputId": "08ed142e-2dab-4e37-b587-aa45cba57f52"
      },
      "execution_count": 46,
      "outputs": [
        {
          "output_type": "stream",
          "name": "stdout",
          "text": [
            "43\n",
            "57\n",
            "55\n"
          ]
        }
      ]
    },
    {
      "cell_type": "code",
      "source": [
        "#Write a Python program to Remove empty List from List?\n",
        "l=[[], 10, [], 33, [], 9]\n",
        "res = list(filter(None, l))\n",
        "print (str(res))"
      ],
      "metadata": {
        "colab": {
          "base_uri": "https://localhost:8080/"
        },
        "id": "tWoRoiDj2jWS",
        "outputId": "2e18cf4d-31e9-4033-dadd-93b294e9862c"
      },
      "execution_count": 48,
      "outputs": [
        {
          "output_type": "stream",
          "name": "stdout",
          "text": [
            "[10, 33, 9]\n"
          ]
        }
      ]
    },
    {
      "cell_type": "code",
      "source": [
        "#Write a Python program to Cloning or Copying a list?\n",
        "def clone(a):\n",
        "  copy_a=[]\n",
        "  copy_a.extend(a)\n",
        "  return copy_a\n",
        "a=[1,10,25,36,72]\n",
        "b=clone(a)\n",
        "print('original list is ',a,' clone list is ',b)"
      ],
      "metadata": {
        "colab": {
          "base_uri": "https://localhost:8080/"
        },
        "id": "YvWirkVw3uwx",
        "outputId": "77cb26ba-0418-4ff6-8fe5-93aaa320e70c"
      },
      "execution_count": 49,
      "outputs": [
        {
          "output_type": "stream",
          "name": "stdout",
          "text": [
            "original list is  [1, 10, 25, 36, 72]  clone list is  [1, 10, 25, 36, 72]\n"
          ]
        }
      ]
    },
    {
      "cell_type": "code",
      "source": [
        "#Write a Python program to Count occurrences of an element in a list?\n",
        "def occ(l_,x):\n",
        "  count=0\n",
        "  for i in l_:\n",
        "    if (i==x):\n",
        "      count=count+1\n",
        "  return count\n",
        "l_=[1,0,2,0,44,5,6,7,8,9,0,14,22]\n",
        "x=0\n",
        "print('{} has occurred {} times'.format(x, occ(l_, x)))"
      ],
      "metadata": {
        "colab": {
          "base_uri": "https://localhost:8080/"
        },
        "id": "_KiOhJG94taB",
        "outputId": "5786b911-cb3c-4f1d-99ce-6059069ec368"
      },
      "execution_count": 56,
      "outputs": [
        {
          "output_type": "stream",
          "name": "stdout",
          "text": [
            "0 has occurred 3 times\n"
          ]
        }
      ]
    },
    {
      "cell_type": "code",
      "source": [
        ""
      ],
      "metadata": {
        "id": "Zdy20ujx5hLh"
      },
      "execution_count": null,
      "outputs": []
    }
  ]
}