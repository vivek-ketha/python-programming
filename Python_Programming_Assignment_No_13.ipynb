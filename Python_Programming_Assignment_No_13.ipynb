{
  "nbformat": 4,
  "nbformat_minor": 0,
  "metadata": {
    "colab": {
      "name": "Python Programming Assignment No 13.ipynb",
      "provenance": []
    },
    "kernelspec": {
      "name": "python3",
      "display_name": "Python 3"
    },
    "language_info": {
      "name": "python"
    }
  },
  "cells": [
    {
      "cell_type": "code",
      "execution_count": 7,
      "metadata": {
        "colab": {
          "base_uri": "https://localhost:8080/"
        },
        "id": "EFtjKlh7mlS_",
        "outputId": "33982aeb-0636-4874-f00a-ae3dc3724d4e"
      },
      "outputs": [
        {
          "output_type": "stream",
          "name": "stdout",
          "text": [
            "Provide D: 100,150,180\n",
            "[18, 22, 24]\n"
          ]
        }
      ],
      "source": [
        "'''Write a program that calculates and prints the value according to the given formula:\n",
        "Q = Square root of [(2 * C * D)/H]\n",
        "Following are the fixed values of C and H:\n",
        "C is 50. H is 30.\n",
        "D is the variable whose values should be input to your program in a comma-separated sequence.'''\n",
        "import math\n",
        "numbers = input(\"Provide D: \")\n",
        "numbers = numbers.split(',')\n",
        "result_list = []\n",
        "for D in numbers:\n",
        "    Q = round(math.sqrt(2 * 50 * int(D) / 30))\n",
        "    result_list.append(Q)\n",
        "print(result_list)"
      ]
    },
    {
      "cell_type": "code",
      "source": [
        "'''Write a program which takes 2 digits, X,Y as input and generates a \n",
        "2-dimensional array. The element value in the i-th row and j-th column of the \n",
        "array should be i*j.'''\n",
        "\n",
        "m=int(input(\"Row:\"))\n",
        "n=int(input(\"Column:\"))\n",
        "matrix=[[0 for col in range(n)] for row in range(m)]\n",
        "for row in range(m):\n",
        "    for col in range(n):\n",
        "        matrix[row][col]=row*col\n",
        "print(matrix)"
      ],
      "metadata": {
        "colab": {
          "base_uri": "https://localhost:8080/"
        },
        "id": "EGxAZBtHnpzr",
        "outputId": "baf2ef82-e1c1-4024-95ea-3c2679832962"
      },
      "execution_count": 9,
      "outputs": [
        {
          "output_type": "stream",
          "name": "stdout",
          "text": [
            "Row:3\n",
            "Column:5\n",
            "[[0, 0, 0, 0, 0], [0, 1, 2, 3, 4], [0, 2, 4, 6, 8]]\n"
          ]
        }
      ]
    },
    {
      "cell_type": "code",
      "source": [
        "'''Write a program that accepts a comma separated sequence of words as input and\n",
        "prints the words in a comma-separated sequence after sorting them alphabetically.\n",
        "'''\n",
        "\n",
        "items = input(\"Input comma separated sequence of words\")\n",
        "words = [word for word in items.split(\",\")]\n",
        "print(\",\".join(sorted(list(set(words)))))"
      ],
      "metadata": {
        "colab": {
          "base_uri": "https://localhost:8080/"
        },
        "id": "wCieDuEWoesf",
        "outputId": "4248a428-bb3a-4133-ed41-7fbd617259bc"
      },
      "execution_count": 10,
      "outputs": [
        {
          "output_type": "stream",
          "name": "stdout",
          "text": [
            "Input comma separated sequence of words'hi','bag','hello ','world'\n",
            "'bag','hello ','hi','world'\n"
          ]
        }
      ]
    },
    {
      "cell_type": "code",
      "source": [
        "#Write a program that accepts a sequence of whitespace separated words as input \n",
        "#and prints the words after removing all duplicate words and sorting them alphanumerically.\n",
        "phrase = input(\"Type in: \")\n",
        "phrase_splited = phrase.split(' ')\n",
        "word_list = []\n",
        "for i in phrase_splited:\n",
        "    if i not in word_list:\n",
        "        word_list.append(i)\n",
        "    else:\n",
        "        continue\n",
        "word_list.sort()\n",
        "print((' ').join(word_list))"
      ],
      "metadata": {
        "colab": {
          "base_uri": "https://localhost:8080/"
        },
        "id": "TNbpwBLbrAe-",
        "outputId": "b42cedf2-32de-4417-f9bb-f6c31140cca0"
      },
      "execution_count": 18,
      "outputs": [
        {
          "output_type": "stream",
          "name": "stdout",
          "text": [
            "Type in: hello world and practice makes perfect and hello world again\n",
            "again and hello makes perfect practice world\n"
          ]
        }
      ]
    },
    {
      "cell_type": "code",
      "source": [
        "#Write a program that accepts a sentence and calculate the number of letters and digits.\n",
        "a=input('enter a string')\n",
        "s=d=0\n",
        "for i in a:\n",
        "  if i.isdigit():\n",
        "    d=d+1\n",
        "  elif i.isalpha():\n",
        "    s=s+1\n",
        "  else:\n",
        "    pass\n",
        "print('Lettets ',s,\n",
        "      'Digits ',d)    "
      ],
      "metadata": {
        "colab": {
          "base_uri": "https://localhost:8080/"
        },
        "id": "fCH_aSKBseiS",
        "outputId": "6cd0b228-d98d-4fec-fc1d-8351fc15690e"
      },
      "execution_count": 19,
      "outputs": [
        {
          "output_type": "stream",
          "name": "stdout",
          "text": [
            "enter a stringHello world 123\n",
            "Lettets  10 Digits  3\n"
          ]
        }
      ]
    },
    {
      "cell_type": "code",
      "source": [
        "#A website requires the users to input username and password to register. \n",
        "#Write a program to check the validity of password input by users.\n",
        "\n",
        "import re\n",
        "passwords = input(\"Type in: \")\n",
        "passwords = passwords.split(\",\")\n",
        "accepted_pass = []\n",
        "for i in passwords:\n",
        "    if len(i) < 6 or len(i) > 12:\n",
        "        continue\n",
        "    elif not re.search(\"([a-z])+\", i):\n",
        "        continue\n",
        "    elif not re.search(\"([A-Z])+\", i):\n",
        "        continue\n",
        "    elif not re.search(\"([0-9])+\", i):\n",
        "        continue\n",
        "    elif not re.search(\"([!@$%^&])+\", i):\n",
        "        continue\n",
        "    else:\n",
        "        accepted_pass.append(i)\n",
        "print((\" \").join(accepted_pass))"
      ],
      "metadata": {
        "colab": {
          "base_uri": "https://localhost:8080/"
        },
        "id": "ZhXOscmPuQ53",
        "outputId": "e322d932-0ad6-436f-bf4c-a341533d10f9"
      },
      "execution_count": 20,
      "outputs": [
        {
          "output_type": "stream",
          "name": "stdout",
          "text": [
            "Type in: ABd1234@1,a F1#,2w3E*,2We3345\n",
            "ABd1234@1\n"
          ]
        }
      ]
    },
    {
      "cell_type": "code",
      "source": [
        ""
      ],
      "metadata": {
        "id": "Nyfu27SGuzID"
      },
      "execution_count": null,
      "outputs": []
    }
  ]
}