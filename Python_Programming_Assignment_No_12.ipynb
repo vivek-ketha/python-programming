{
  "nbformat": 4,
  "nbformat_minor": 0,
  "metadata": {
    "colab": {
      "name": "Python Programming Assignment No 12.ipynb",
      "provenance": []
    },
    "kernelspec": {
      "name": "python3",
      "display_name": "Python 3"
    },
    "language_info": {
      "name": "python"
    }
  },
  "cells": [
    {
      "cell_type": "code",
      "execution_count": 2,
      "metadata": {
        "colab": {
          "base_uri": "https://localhost:8080/"
        },
        "id": "dYJ5fMngr09J",
        "outputId": "ebb614d0-9f17-4a50-9926-04b0f7d3397d"
      },
      "outputs": [
        {
          "output_type": "stream",
          "name": "stdout",
          "text": [
            "The unique values list is : [1, 2, 5, 6, 7, 8, 10, 11, 12]\n"
          ]
        }
      ],
      "source": [
        "#Write a Python program to Extract Unique values dictionary values?\n",
        "from itertools import chain\n",
        "test_dict = {'gfg' : [5, 6, 7, 8],\n",
        "\t\t\t'is' : [10, 11, 7, 5],\n",
        "\t\t\t'best' : [6, 12, 10, 8],\n",
        "\t\t\t'for' : [1, 2, 5]}\n",
        "res = list(sorted(set(chain(*test_dict.values()))))\n",
        "print(\"The unique values list is : \" + str(res))"
      ]
    },
    {
      "cell_type": "code",
      "source": [
        "#Write a Python program to find the sum of all items in a dictionary?\n",
        "def returnSum(myDict):\n",
        "\tlist = []\n",
        "\tfor i in myDict:\n",
        "\t\tlist.append(myDict[i])\n",
        "\tfinal = sum(list)\n",
        "\treturn final\n",
        "dict = {'a': 100, 'b':200, 'c':300}\n",
        "print(\"Sum :\", returnSum(dict))"
      ],
      "metadata": {
        "colab": {
          "base_uri": "https://localhost:8080/"
        },
        "id": "FM1zqy9wsNqu",
        "outputId": "a05e4181-4d65-46a7-9a61-8e5ae73883fa"
      },
      "execution_count": 3,
      "outputs": [
        {
          "output_type": "stream",
          "name": "stdout",
          "text": [
            "Sum : 600\n"
          ]
        }
      ]
    },
    {
      "cell_type": "code",
      "source": [
        "#Write a Python program to Merging two Dictionaries?\n",
        "def merge(dict1,dict2):\n",
        "  return(dict2.update(dict1))\n",
        "dict1={'a':10,'b':30,'c':44}\n",
        "dict2={'d':57,'e':77,'f':52}\n",
        "print(merge(dict1,dict2))\n",
        "print(dict2)\n"
      ],
      "metadata": {
        "colab": {
          "base_uri": "https://localhost:8080/"
        },
        "id": "GmcC5-pqsiDu",
        "outputId": "a223cd27-8971-4c74-b582-05e28bf5f7c0"
      },
      "execution_count": 8,
      "outputs": [
        {
          "output_type": "stream",
          "name": "stdout",
          "text": [
            "None\n",
            "{'d': 57, 'e': 77, 'f': 52, 'a': 10, 'b': 30, 'c': 44}\n"
          ]
        }
      ]
    },
    {
      "cell_type": "code",
      "source": [
        "#Write a Python program to insertion at the beginning in OrderedDict?\n",
        "from collections import OrderedDict\n",
        "iniordered_dict = OrderedDict([('akshat', '1'), ('nikhil', '2')])\n",
        "iniordered_dict.update({'manjeet':'3'})\n",
        "iniordered_dict.move_to_end('manjeet', last = False)\n",
        "print (\"Resultant Dictionary : \"+str(iniordered_dict))"
      ],
      "metadata": {
        "colab": {
          "base_uri": "https://localhost:8080/"
        },
        "id": "ht_gGz6Lt0-u",
        "outputId": "23a19ccb-c65a-4015-df53-118dcc99e46c"
      },
      "execution_count": 11,
      "outputs": [
        {
          "output_type": "stream",
          "name": "stdout",
          "text": [
            "Resultant Dictionary : OrderedDict([('manjeet', '3'), ('akshat', '1'), ('nikhil', '2')])\n"
          ]
        }
      ]
    },
    {
      "cell_type": "code",
      "source": [
        "#Write a Python program to check order of character in string using OrderedDict()?\n",
        "from collections import OrderedDict\n",
        "def check_order(my_input, my_pattern):\n",
        "   my_dict = OrderedDict.fromkeys(my_input)\n",
        "   pattern_length = 0\n",
        "   for key,value in my_dict.items():\n",
        "      if (key == my_pattern[pattern_length]):\n",
        "         pattern_length = pattern_length + 1\n",
        "\n",
        "      if (pattern_length == (len(my_pattern))):\n",
        "         return 'The order of pattern is correct'\n",
        "\n",
        "   return 'The order of pattern is incorrect'\n",
        "\n",
        "my_input = 'Hi kiran'\n",
        "input_pattern = 'ma'\n",
        "print(\"The string is \")\n",
        "print(my_input)\n",
        "print(\"The input pattern is \")\n",
        "print(input_pattern)\n",
        "print(check_order(my_input,input_pattern))"
      ],
      "metadata": {
        "colab": {
          "base_uri": "https://localhost:8080/"
        },
        "id": "mxu3Hpq_uVvW",
        "outputId": "de4e1a2f-7f5d-4791-fda3-53ffb8f179cb"
      },
      "execution_count": 18,
      "outputs": [
        {
          "output_type": "stream",
          "name": "stdout",
          "text": [
            "The string is \n",
            "Hi kiran\n",
            "The input pattern is \n",
            "ma\n",
            "The order of pattern is incorrect\n"
          ]
        }
      ]
    },
    {
      "cell_type": "code",
      "source": [
        "#Write a Python program to sort Python Dictionaries by Key or Value?\n",
        "def dictionairy():\n",
        "\n",
        "  key_value ={}\n",
        "\n",
        "  key_value[2] = 56\t\n",
        "  key_value[1] = 2\n",
        "  key_value[5] = 12\n",
        "  key_value[4] = 24\n",
        "  key_value[6] = 18\t\n",
        "  key_value[3] = 323\n",
        "\n",
        "  print (\"Task 2:-\\nKeys and Values sorted in\",\n",
        "\t\t\t\"alphabetical order by the key \")\n",
        "  for i in sorted (key_value) :\n",
        "\t  print ((i, key_value[i]), end =\" \")\n",
        "\n",
        "def main():\n",
        "\tdictionairy()\t\t\t\t\n",
        "if __name__==\"__main__\":\t\n",
        "\tmain()\n"
      ],
      "metadata": {
        "colab": {
          "base_uri": "https://localhost:8080/"
        },
        "id": "E8GYwYDRvYLH",
        "outputId": "2d4d0339-003b-43ba-8327-f9056147ba45"
      },
      "execution_count": 22,
      "outputs": [
        {
          "output_type": "stream",
          "name": "stdout",
          "text": [
            "Task 2:-\n",
            "Keys and Values sorted in alphabetical order by the key \n",
            "(1, 2) (2, 56) (3, 323) (4, 24) (5, 12) (6, 18) "
          ]
        }
      ]
    },
    {
      "cell_type": "code",
      "source": [
        ""
      ],
      "metadata": {
        "id": "m9ZepnJpvvo2"
      },
      "execution_count": null,
      "outputs": []
    }
  ]
}